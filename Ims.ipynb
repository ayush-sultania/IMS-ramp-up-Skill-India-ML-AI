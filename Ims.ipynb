{
  "nbformat": 4,
  "nbformat_minor": 0,
  "metadata": {
    "colab": {
      "name": "Ims.ipynb",
      "provenance": [],
      "collapsed_sections": [],
      "authorship_tag": "ABX9TyMkOci+R8zrAGeDMt46nkA5",
      "include_colab_link": true
    },
    "kernelspec": {
      "name": "python3",
      "display_name": "Python 3"
    },
    "language_info": {
      "name": "python"
    }
  },
  "cells": [
    {
      "cell_type": "markdown",
      "metadata": {
        "id": "view-in-github",
        "colab_type": "text"
      },
      "source": [
        "<a href=\"https://colab.research.google.com/github/ayush-sultania/IMS-ramp-up-Skill-India-ML-AI/blob/main/Ims.ipynb\" target=\"_parent\"><img src=\"https://colab.research.google.com/assets/colab-badge.svg\" alt=\"Open In Colab\"/></a>"
      ]
    },
    {
      "cell_type": "code",
      "metadata": {
        "id": "PWAHDV5HKokn"
      },
      "source": [
        ""
      ],
      "execution_count": null,
      "outputs": []
    },
    {
      "cell_type": "markdown",
      "metadata": {
        "id": "fg_99VzyK2hr"
      },
      "source": [
        ""
      ]
    },
    {
      "cell_type": "code",
      "metadata": {
        "id": "fmrgP14twf1D"
      },
      "source": [
        "records = {\n",
        "     1 : {\"Name\" : \"Kit Kat Small    \", \"Quantity\" : 100, \"Rate\" : 10, \"Discount\" : 10 , \"Expiry\" : \"20-10-2022\"},\n",
        "     2 : {\"Name\" : \"Kit Kat Large    \", \"Quantity\" : 100, \"Rate\" : 30, \"Discount\" : 10 , \"Expiry\" : \"20-10-2022\"},\n",
        "     3 : {\"Name\" : \"Milky Bar Small  \", \"Quantity\" : 100, \"Rate\" : 10, \"Discount\" : 10 , \"Expiry\" : \"20-10-2022\"},\n",
        "     4 : {\"Name\" : \"Milky Bar Large  \", \"Quantity\" : 100, \"Rate\" : 30, \"Discount\" : 10 , \"Expiry\" : \"20-10-2022\"},\n",
        "     5 : {\"Name\" : \"Dairy Milk Small \", \"Quantity\" : 100, \"Rate\" : 10, \"Discount\" : 10 , \"Expiry\" : \"20-10-2022\"},\n",
        "     6 : {\"Name\" : \"Dairy Milk Large \", \"Quantity\" : 100, \"Rate\" : 30, \"Discount\" : 10 , \"Expiry\" : \"20-10-2022\"},\n",
        "     7 : {\"Name\" : \"5 Star Small     \", \"Quantity\" : 100, \"Rate\" : 10, \"Discount\" : 10 , \"Expiry\" : \"20-10-2022\"},\n",
        "     8 : {\"Name\" : \"5 Star Large     \", \"Quantity\" : 100, \"Rate\" : 30, \"Discount\" : 10 , \"Expiry\" : \"20-10-2022\"},\n",
        "     9 : {\"Name\" : \"Munch            \", \"Quantity\" : 100, \"Rate\" : 10, \"Discount\" : 10 , \"Expiry\" : \"20-10-2022\"},\n",
        "    10 : {\"Name\" : \"Eclairs Pack     \", \"Quantity\" : 100, \"Rate\" : 250, \"Discount\" : 10 , \"Expiry\" : \"20-10-2022\"},\n",
        "    11 : {\"Name\" : \"KurKure Small    \", \"Quantity\" : 100, \"Rate\" : 10, \"Discount\" : 10 , \"Expiry\" : \"20-10-2022\"},\n",
        "    12 : {\"Name\" : \"Kurkure Medium   \", \"Quantity\" : 100, \"Rate\" : 20, \"Discount\" : 10 , \"Expiry\" : \"20-10-2022\"},\n",
        "    13 : {\"Name\" : \"Kurkure Large    \", \"Quantity\" : 100, \"Rate\" : 30, \"Discount\" : 10 , \"Expiry\" : \"20-10-2022\"},\n",
        "    14 : {\"Name\" : \"Lays Small       \", \"Quantity\" : 100, \"Rate\" : 10, \"Discount\" : 10 , \"Expiry\" : \"20-10-2022\"},\n",
        "    15 : {\"Name\" : \"Lays Medium      \", \"Quantity\" : 100, \"Rate\" : 20, \"Discount\" : 10 , \"Expiry\" : \"20-10-2022\"},\n",
        "    16 : {\"Name\" : \"Lays Large       \", \"Quantity\" : 100, \"Rate\" : 30, \"Discount\" : 10 , \"Expiry\" : \"20-10-2022\"},\n",
        "    17 : {\"Name\" : \"Lays Family Pack \", \"Quantity\" : 100, \"Rate\" : 90, \"Discount\" : 10 , \"Expiry\" : \"20-10-2022\"},\n",
        "    18 : {\"Name\" : \"Cornitos Small   \", \"Quantity\" : 100, \"Rate\" : 35, \"Discount\" : 10 , \"Expiry\" : \"20-10-2022\"},\n",
        "    19 : {\"Name\" : \"Cornitos Large   \", \"Quantity\" : 100, \"Rate\" : 70, \"Discount\" : 10 , \"Expiry\" : \"20-10-2022\"},\n",
        "    20 : {\"Name\" : \"Uncle Chips Small\", \"Quantity\" : 100, \"Rate\" : 10, \"Discount\" : 10 , \"Expiry\" : \"20-10-2022\"},\n",
        "    21 : {\"Name\" : \"Uncle Chips Large\", \"Quantity\" : 100, \"Rate\" : 20, \"Discount\" : 10 , \"Expiry\" : \"20-10-2022\"},\n",
        "    22 : {\"Name\" : \"TakaTak Small    \", \"Quantity\" : 100, \"Rate\" : 10, \"Discount\" : 10 , \"Expiry\" : \"20-10-2022\"},\n",
        "    23 : {\"Name\" : \"TakaTak Large    \", \"Quantity\" : 100, \"Rate\" : 20, \"Discount\" : 10 , \"Expiry\" : \"20-10-2022\"},\n",
        "    24 : {\"Name\" : \"Coke Can         \", \"Quantity\" : 100, \"Rate\" : 30, \"Discount\" : 10 , \"Expiry\" : \"20-10-2022\"},\n",
        "    25 : {\"Name\" : \"Coke 300ml       \", \"Quantity\" : 100, \"Rate\" : 20, \"Discount\" : 10 , \"Expiry\" : \"20-10-2022\"},\n",
        "    26 : {\"Name\" : \"Coke 600ml       \", \"Quantity\" : 100, \"Rate\" : 40, \"Discount\" : 10 , \"Expiry\" : \"20-10-2022\"},\n",
        "    27 : {\"Name\" : \"Coke 1.25l       \", \"Quantity\" : 100, \"Rate\" : 85, \"Discount\" : 10 , \"Expiry\" : \"20-10-2022\"},\n",
        "    28 : {\"Name\" : \"Limca 600ml      \", \"Quantity\" : 100, \"Rate\" : 40, \"Discount\" : 10 , \"Expiry\" : \"20-10-2022\"},\n",
        "    29 : {\"Name\" : \"Limca 1.25l      \", \"Quantity\" : 100, \"Rate\" : 60, \"Discount\" : 10 , \"Expiry\" : \"20-10-2022\"},\n",
        "    30 : {\"Name\" : \"Limca 2l         \", \"Quantity\" : 100, \"Rate\" : 80, \"Discount\" : 10 , \"Expiry\" : \"20-10-2022\"},\n",
        "}"
      ],
      "execution_count": null,
      "outputs": []
    },
    {
      "cell_type": "code",
      "metadata": {
        "id": "i_FyftWJWdr8"
      },
      "source": [
        "import json\n",
        "\n",
        "fd = open(\"inventory.json\", \"w\")\n",
        "fd.write(json.dumps(records, indent=4))\n",
        "fd.close()"
      ],
      "execution_count": null,
      "outputs": []
    },
    {
      "cell_type": "code",
      "metadata": {
        "colab": {
          "base_uri": "https://localhost:8080/"
        },
        "id": "TG7-t1ieirLM",
        "outputId": "147140d6-46e1-4a73-8596-3e266eb0e17e"
      },
      "source": [
        "import time\n",
        "print(time.ctime())"
      ],
      "execution_count": 22,
      "outputs": [
        {
          "output_type": "stream",
          "name": "stdout",
          "text": [
            "Wed Sep  1 08:48:26 2021\n"
          ]
        }
      ]
    },
    {
      "cell_type": "code",
      "metadata": {
        "colab": {
          "base_uri": "https://localhost:8080/"
        },
        "id": "L-69z--6n2c5",
        "outputId": "fbb69b36-44fc-461c-dadc-99d3c25f5f64"
      },
      "source": [
        "import json\n",
        "\n",
        "\n",
        "def showinventory():\n",
        "  a = open(\"inventory.json\", \"r\")\n",
        "  dat = json.load(a)\n",
        "  a.close()\n",
        "  print (\"Product Id\",\"\\t\", \"Name\", \"\\t\\t\", \"Price\", \"\\t\", \"Quantity\", \"\\t\", \"Discount\")\n",
        "  print(\"************************************************************************************************************************************\")\n",
        "  for i in dat:\n",
        "    print(\"\\t\", i, dat[i]['Name'], \"\\t\", dat[i]['Rate'], \"\\t\", dat[i]['Quantity'], \"\\t\", dat[i]['Discount'])\n",
        "  print(\"************************************************************************************************************************************\")\n",
        "\n",
        "\n",
        "\n",
        "def showbill(abill) :\n",
        "  import time\n",
        "  currtime =  time.ctime()\n",
        "  print(\"Transaction Successful\")\n",
        "  print(currtime)\n",
        "  print(\"Product Id\", \"\\t\", \"Name\", \"\\t\\t\", \"Rate\", \"\\t\", \"Quantity\", \"\\t\", \"Amount(Discounted)\")\n",
        "  print(\"************************************************************************************************************************************\")\n",
        "  total = 0 ;\n",
        "  for eac in abill:\n",
        "    print(\"\\t\", eac['pid'],eac['name'], \"\\t\", eac['rate'], \"\\t\", eac['quantity'], \"\\t\", eac['amount'] )\n",
        "    total += eac['amount']\n",
        "  print (\"Total  : \", total)\n",
        "  print(\"************************************************************************************************************************************\")\n",
        "  print(\"Thanks for shopping with us!! \")\n",
        "  import json\n",
        "  tr = open(\"transactions.json\", \"a\")\n",
        "  trans = {\"Date\" : currtime, \"items\" : abill, \"total\" : total}\n",
        "  tr.write(json.dumps(trans, indent = 4))\n",
        "  tr.close()\n",
        "\n",
        "\n",
        "def placeorder():\n",
        "  a = open(\"inventory.json\", \"r\")\n",
        "  dat = json.load(a)\n",
        "  a.close()\n",
        "  nitems = int(input(\"Enter the Number of Products you want : \"))\n",
        "  itemlis = []\n",
        "  for i in range(nitems) :\n",
        "    print(\"Product Number \", i + 1, \" : \")\n",
        "    pid = int(input(\"Enter Product Id : \"))\n",
        "    quan = int(input(\"Enter the Quantity : \"))\n",
        "    itemlis.append({\"pid\" : pid, \"quan\" : quan})\n",
        "  bill = []\n",
        "  for it in itemlis:\n",
        "    a = dat[str(it['pid'])]\n",
        "    if a['Quantity'] >= it['quan'] :\n",
        "      dat[str(it['pid'])]['Quantity'] = a['Quantity'] - it['quan']\n",
        "      dis = a['Discount']\n",
        "      dis = 100 - dis\n",
        "      dis = dis / 100.0\n",
        "      bill.append({\"pid\" : it['pid'], \"name\" : dat[str(it['pid'])]['Name'], \"rate\" : dat[str(it['pid'])]['Rate'], \"quantity\" : it['quan'] ,\"amount\" : (dat[str(it['pid'])]['Rate'] * it['quan'] * dis) })\n",
        "  fd = open(\"inventory.json\", \"w\")\n",
        "  fd.write(json.dumps(dat, indent = 4))\n",
        "  fd.close()\n",
        "  showbill(bill)\n",
        "  pass\n",
        "\n",
        "\n",
        "ch = 1 ;\n",
        "while(ch) :\n",
        "  print(\"Please choose any one of the following\")\n",
        "  print(\"1. Inventory\")\n",
        "  print(\"2. Place Order\")\n",
        "  print(\"0. Exit\")\n",
        "  ch = int(input(\"Provie input here : \"))\n",
        "  if ch == 1 :\n",
        "    showinventory()\n",
        "  elif ch == 2 :\n",
        "    placeorder()\n",
        "    ch = 0\n",
        "  elif ch == 0 :\n",
        "    print(\"Exiting, Have a Nice Day\")\n",
        "  else :\n",
        "    print(\"Wrong choice, Exiting!!\")\n",
        "    ch = 0\n"
      ],
      "execution_count": 23,
      "outputs": [
        {
          "output_type": "stream",
          "name": "stdout",
          "text": [
            "Please choose any one of the following\n",
            "1. Inventory\n",
            "2. Place Order\n",
            "0. Exit\n",
            "Provie input here : 1\n",
            "Product Id \t Name \t\t Price \t Quantity \t Discount\n",
            "************************************************************************************************************************************\n",
            "\t 1 Kit Kat Small     \t 10 \t 100 \t 10\n",
            "\t 2 Kit Kat Large     \t 30 \t 100 \t 10\n",
            "\t 3 Milky Bar Small   \t 10 \t 100 \t 10\n",
            "\t 4 Milky Bar Large   \t 30 \t 100 \t 10\n",
            "\t 5 Dairy Milk Small  \t 10 \t 100 \t 10\n",
            "\t 6 Dairy Milk Large  \t 30 \t 100 \t 10\n",
            "\t 7 5 Star Small      \t 10 \t 100 \t 10\n",
            "\t 8 5 Star Large      \t 30 \t 100 \t 10\n",
            "\t 9 Munch             \t 10 \t 100 \t 10\n",
            "\t 10 Eclairs Pack      \t 250 \t 100 \t 10\n",
            "\t 11 KurKure Small     \t 10 \t 100 \t 10\n",
            "\t 12 Kurkure Medium    \t 20 \t 100 \t 10\n",
            "\t 13 Kurkure Large     \t 30 \t 100 \t 10\n",
            "\t 14 Lays Small        \t 10 \t 100 \t 10\n",
            "\t 15 Lays Medium       \t 20 \t 100 \t 10\n",
            "\t 16 Lays Large        \t 30 \t 100 \t 10\n",
            "\t 17 Lays Family Pack  \t 90 \t 100 \t 10\n",
            "\t 18 Cornitos Small    \t 35 \t 100 \t 10\n",
            "\t 19 Cornitos Large    \t 70 \t 100 \t 10\n",
            "\t 20 Uncle Chips Small \t 10 \t 100 \t 10\n",
            "\t 21 Uncle Chips Large \t 20 \t 100 \t 10\n",
            "\t 22 TakaTak Small     \t 10 \t 100 \t 10\n",
            "\t 23 TakaTak Large     \t 20 \t 100 \t 10\n",
            "\t 24 Coke Can          \t 30 \t 100 \t 10\n",
            "\t 25 Coke 300ml        \t 20 \t 100 \t 10\n",
            "\t 26 Coke 600ml        \t 40 \t 100 \t 10\n",
            "\t 27 Coke 1.25l        \t 85 \t 100 \t 10\n",
            "\t 28 Limca 600ml       \t 40 \t 100 \t 10\n",
            "\t 29 Limca 1.25l       \t 60 \t 100 \t 10\n",
            "\t 30 Limca 2l          \t 80 \t 100 \t 10\n",
            "************************************************************************************************************************************\n",
            "Please choose any one of the following\n",
            "1. Inventory\n",
            "2. Place Order\n",
            "0. Exit\n",
            "Provie input here : 2\n",
            "Enter the Number of Products you want : 2\n",
            "Product Number  1  : \n",
            "Enter Product Id : 2\n",
            "Enter the Quantity : 3\n",
            "Product Number  2  : \n",
            "Enter Product Id : 13\n",
            "Enter the Quantity : 4\n",
            "Transaction Successful\n",
            "Wed Sep  1 09:11:20 2021\n",
            "Product Id \t Name \t\t Rate \t Quantity \t Amount(Discounted)\n",
            "************************************************************************************************************************************\n",
            "\t 2 Kit Kat Large     \t 30 \t 3 \t 81.0\n",
            "\t 13 Kurkure Large     \t 30 \t 4 \t 108.0\n",
            "Total  :  189.0\n",
            "************************************************************************************************************************************\n",
            "Thanks for shopping with us!! \n"
          ]
        }
      ]
    }
  ]
}
